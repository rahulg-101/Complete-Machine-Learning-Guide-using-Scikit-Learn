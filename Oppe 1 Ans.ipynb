{
 "cells": [
  {
   "cell_type": "markdown",
   "id": "06a012f4",
   "metadata": {},
   "source": [
    "## Notes:\n",
    "- This exam consists of a Regression problem.\n",
    "- Shape of the dataset is (10000,12) [Note if you are not getting this shape that means your data has not been uploaded correctly to the colab]\n",
    "- The target feature in the dataset is the `Sale Price` column.\n",
    "- Random state should be taken as 27 wherever applicable.\n",
    "- ignore all the warnings while executing the codes\n",
    "- Maximum marks : 100\n",
    "\n",
    "## Metadata\n",
    "\n",
    "- Year - selling year\n",
    "- Date - selling date\n",
    "- Locality - locality of the property\n",
    "- Estimated Value - estimated selling price of the property\n",
    "- Sale Price - Selling price of the property ▶▶▶ Target\n",
    "- num_family - Number of family staying in the property\n",
    "- Residential - Type of the property\n",
    "- num_rooms - Number of rooms\n",
    "- carpet_area - The area of an apartment that can be covered by a carpet or the net usable area is known as the carpet area.\n",
    "- property_tax_rate - yearly tax of the property\n",
    "- Face - Direction property is facing\n",
    "- Bathroom Count\n"
   ]
  },
  {
   "cell_type": "code",
   "execution_count": 50,
   "id": "384a7808",
   "metadata": {},
   "outputs": [],
   "source": [
    "import pandas as pd\n",
    "import numpy as np\n",
    "import matplotlib.pyplot as plt\n",
    "import seaborn as sns"
   ]
  },
  {
   "cell_type": "markdown",
   "id": "b807e39c",
   "metadata": {},
   "source": [
    "### Which dataset are you using for this exam?"
   ]
  },
  {
   "cell_type": "code",
   "execution_count": 51,
   "id": "906bf7af",
   "metadata": {},
   "outputs": [
    {
     "data": {
      "text/html": [
       "<div>\n",
       "<style scoped>\n",
       "    .dataframe tbody tr th:only-of-type {\n",
       "        vertical-align: middle;\n",
       "    }\n",
       "\n",
       "    .dataframe tbody tr th {\n",
       "        vertical-align: top;\n",
       "    }\n",
       "\n",
       "    .dataframe thead th {\n",
       "        text-align: right;\n",
       "    }\n",
       "</style>\n",
       "<table border=\"1\" class=\"dataframe\">\n",
       "  <thead>\n",
       "    <tr style=\"text-align: right;\">\n",
       "      <th></th>\n",
       "      <th>Date</th>\n",
       "      <th>Year</th>\n",
       "      <th>Locality</th>\n",
       "      <th>Estimated Value</th>\n",
       "      <th>Sale Price</th>\n",
       "      <th>Property</th>\n",
       "      <th>Residential</th>\n",
       "      <th>num_rooms</th>\n",
       "      <th>num_bathrooms</th>\n",
       "      <th>carpet_area</th>\n",
       "      <th>property_tax_rate</th>\n",
       "      <th>Face</th>\n",
       "    </tr>\n",
       "  </thead>\n",
       "  <tbody>\n",
       "    <tr>\n",
       "      <th>0</th>\n",
       "      <td>2009-01-02</td>\n",
       "      <td>2009</td>\n",
       "      <td>Waterbury</td>\n",
       "      <td>111440.0</td>\n",
       "      <td>185000.0</td>\n",
       "      <td>Single Family</td>\n",
       "      <td>Detached House</td>\n",
       "      <td>3</td>\n",
       "      <td>3</td>\n",
       "      <td>996.0</td>\n",
       "      <td>1.025953</td>\n",
       "      <td>South</td>\n",
       "    </tr>\n",
       "    <tr>\n",
       "      <th>1</th>\n",
       "      <td>2009-01-02</td>\n",
       "      <td>2009</td>\n",
       "      <td>NaN</td>\n",
       "      <td>73080.0</td>\n",
       "      <td>152000.0</td>\n",
       "      <td>Single Family</td>\n",
       "      <td>Detached House</td>\n",
       "      <td>3</td>\n",
       "      <td>1</td>\n",
       "      <td>935.0</td>\n",
       "      <td>1.025953</td>\n",
       "      <td>North</td>\n",
       "    </tr>\n",
       "    <tr>\n",
       "      <th>2</th>\n",
       "      <td>2009-01-02</td>\n",
       "      <td>2009</td>\n",
       "      <td>Waterbury</td>\n",
       "      <td>50540.0</td>\n",
       "      <td>105000.0</td>\n",
       "      <td>Single Family</td>\n",
       "      <td>Detached House</td>\n",
       "      <td>3</td>\n",
       "      <td>1</td>\n",
       "      <td>951.0</td>\n",
       "      <td>1.025953</td>\n",
       "      <td>East</td>\n",
       "    </tr>\n",
       "    <tr>\n",
       "      <th>3</th>\n",
       "      <td>2009-01-02</td>\n",
       "      <td>2009</td>\n",
       "      <td>Norwalk</td>\n",
       "      <td>571060.0</td>\n",
       "      <td>1000000.0</td>\n",
       "      <td>Single Family</td>\n",
       "      <td>Detached House</td>\n",
       "      <td>3</td>\n",
       "      <td>2</td>\n",
       "      <td>NaN</td>\n",
       "      <td>1.025953</td>\n",
       "      <td>South</td>\n",
       "    </tr>\n",
       "    <tr>\n",
       "      <th>4</th>\n",
       "      <td>2009-01-02</td>\n",
       "      <td>2009</td>\n",
       "      <td>Bridgeport</td>\n",
       "      <td>4775276.0</td>\n",
       "      <td>272900.0</td>\n",
       "      <td>Single Family</td>\n",
       "      <td>Detached House</td>\n",
       "      <td>3</td>\n",
       "      <td>1</td>\n",
       "      <td>971.0</td>\n",
       "      <td>1.025953</td>\n",
       "      <td>East</td>\n",
       "    </tr>\n",
       "    <tr>\n",
       "      <th>5</th>\n",
       "      <td>2009-01-02</td>\n",
       "      <td>2009</td>\n",
       "      <td>Greenwich</td>\n",
       "      <td>NaN</td>\n",
       "      <td>5187000.0</td>\n",
       "      <td>?</td>\n",
       "      <td>Detached House</td>\n",
       "      <td>3</td>\n",
       "      <td>2</td>\n",
       "      <td>1026.0</td>\n",
       "      <td>1.025953</td>\n",
       "      <td>South</td>\n",
       "    </tr>\n",
       "    <tr>\n",
       "      <th>6</th>\n",
       "      <td>2009-01-03</td>\n",
       "      <td>2009</td>\n",
       "      <td>Norwalk</td>\n",
       "      <td>NaN</td>\n",
       "      <td>1340000.0</td>\n",
       "      <td>Single Family</td>\n",
       "      <td>Detached House</td>\n",
       "      <td>3</td>\n",
       "      <td>1</td>\n",
       "      <td>936.0</td>\n",
       "      <td>1.025953</td>\n",
       "      <td>North</td>\n",
       "    </tr>\n",
       "    <tr>\n",
       "      <th>7</th>\n",
       "      <td>2009-01-03</td>\n",
       "      <td>2009</td>\n",
       "      <td>Norwalk</td>\n",
       "      <td>172620.0</td>\n",
       "      <td>409000.0</td>\n",
       "      <td>?</td>\n",
       "      <td>Detached House</td>\n",
       "      <td>3</td>\n",
       "      <td>3</td>\n",
       "      <td>1004.0</td>\n",
       "      <td>1.025953</td>\n",
       "      <td>South</td>\n",
       "    </tr>\n",
       "    <tr>\n",
       "      <th>8</th>\n",
       "      <td>2009-01-04</td>\n",
       "      <td>2009</td>\n",
       "      <td>Bridgeport</td>\n",
       "      <td>NaN</td>\n",
       "      <td>410000.0</td>\n",
       "      <td>Two Family</td>\n",
       "      <td>Duplex</td>\n",
       "      <td>4</td>\n",
       "      <td>3</td>\n",
       "      <td>1498.0</td>\n",
       "      <td>1.025953</td>\n",
       "      <td>West</td>\n",
       "    </tr>\n",
       "    <tr>\n",
       "      <th>9</th>\n",
       "      <td>2009-01-04</td>\n",
       "      <td>2009</td>\n",
       "      <td>Waterbury</td>\n",
       "      <td>NaN</td>\n",
       "      <td>176000.0</td>\n",
       "      <td>?</td>\n",
       "      <td>Detached House</td>\n",
       "      <td>3</td>\n",
       "      <td>1</td>\n",
       "      <td>1008.0</td>\n",
       "      <td>1.025953</td>\n",
       "      <td>North</td>\n",
       "    </tr>\n",
       "  </tbody>\n",
       "</table>\n",
       "</div>"
      ],
      "text/plain": [
       "         Date  Year    Locality  Estimated Value  Sale Price       Property  \\\n",
       "0  2009-01-02  2009   Waterbury         111440.0    185000.0  Single Family   \n",
       "1  2009-01-02  2009         NaN          73080.0    152000.0  Single Family   \n",
       "2  2009-01-02  2009   Waterbury          50540.0    105000.0  Single Family   \n",
       "3  2009-01-02  2009     Norwalk         571060.0   1000000.0  Single Family   \n",
       "4  2009-01-02  2009  Bridgeport        4775276.0    272900.0  Single Family   \n",
       "5  2009-01-02  2009   Greenwich              NaN   5187000.0              ?   \n",
       "6  2009-01-03  2009     Norwalk              NaN   1340000.0  Single Family   \n",
       "7  2009-01-03  2009     Norwalk         172620.0    409000.0              ?   \n",
       "8  2009-01-04  2009  Bridgeport              NaN    410000.0     Two Family   \n",
       "9  2009-01-04  2009   Waterbury              NaN    176000.0              ?   \n",
       "\n",
       "      Residential  num_rooms  num_bathrooms  carpet_area  property_tax_rate  \\\n",
       "0  Detached House          3              3        996.0           1.025953   \n",
       "1  Detached House          3              1        935.0           1.025953   \n",
       "2  Detached House          3              1        951.0           1.025953   \n",
       "3  Detached House          3              2          NaN           1.025953   \n",
       "4  Detached House          3              1        971.0           1.025953   \n",
       "5  Detached House          3              2       1026.0           1.025953   \n",
       "6  Detached House          3              1        936.0           1.025953   \n",
       "7  Detached House          3              3       1004.0           1.025953   \n",
       "8          Duplex          4              3       1498.0           1.025953   \n",
       "9  Detached House          3              1       1008.0           1.025953   \n",
       "\n",
       "    Face  \n",
       "0  South  \n",
       "1  North  \n",
       "2   East  \n",
       "3  South  \n",
       "4   East  \n",
       "5  South  \n",
       "6  North  \n",
       "7  South  \n",
       "8   West  \n",
       "9  North  "
      ]
     },
     "execution_count": 51,
     "metadata": {},
     "output_type": "execute_result"
    }
   ],
   "source": [
    "df = pd.read_csv(\"V3.csv\", )\n",
    "df.head(10)"
   ]
  },
  {
   "cell_type": "code",
   "execution_count": 52,
   "id": "482e28e2",
   "metadata": {},
   "outputs": [],
   "source": [
    "df = df.replace(\"?\",np.nan)"
   ]
  },
  {
   "cell_type": "code",
   "execution_count": 53,
   "id": "6fb73227",
   "metadata": {},
   "outputs": [
    {
     "data": {
      "text/plain": [
       "(10000, 12)"
      ]
     },
     "execution_count": 53,
     "metadata": {},
     "output_type": "execute_result"
    }
   ],
   "source": [
    "df.shape"
   ]
  },
  {
   "cell_type": "markdown",
   "id": "a6ab3407",
   "metadata": {},
   "source": [
    "### What are the unique values present in the Locality feature of the dataset?"
   ]
  },
  {
   "cell_type": "code",
   "execution_count": 54,
   "id": "41ae8b79",
   "metadata": {},
   "outputs": [
    {
     "data": {
      "text/plain": [
       "array(['Waterbury', nan, 'Norwalk', 'Bridgeport', 'Greenwich',\n",
       "       'Fairfield', 'West Hartford', 'Stamford'], dtype=object)"
      ]
     },
     "execution_count": 54,
     "metadata": {},
     "output_type": "execute_result"
    }
   ],
   "source": [
    "df['Locality'].unique()"
   ]
  },
  {
   "cell_type": "markdown",
   "id": "ec1e7672",
   "metadata": {},
   "source": [
    "### Which of the following columns have categorical data?"
   ]
  },
  {
   "cell_type": "code",
   "execution_count": 55,
   "id": "d1560f0a",
   "metadata": {},
   "outputs": [
    {
     "data": {
      "text/plain": [
       "{int64: ['Year', 'num_rooms', 'num_bathrooms'], float64: ['Estimated Value', 'Sale Price', 'carpet_area', 'property_tax_rate'], object: ['Date', 'Locality', 'Property', 'Residential', 'Face']}"
      ]
     },
     "execution_count": 55,
     "metadata": {},
     "output_type": "execute_result"
    }
   ],
   "source": [
    "types = df.columns.groupby(df.dtypes)\n",
    "types"
   ]
  },
  {
   "cell_type": "markdown",
   "id": "49ca84d8",
   "metadata": {},
   "source": [
    "### Which of the following features have `missing`(NaN) or unknown (\"?\") values present in the dataset?"
   ]
  },
  {
   "cell_type": "code",
   "execution_count": 56,
   "id": "98d1117f",
   "metadata": {},
   "outputs": [
    {
     "name": "stdout",
     "output_type": "stream",
     "text": [
      "Date                    0\n",
      "Year                    0\n",
      "Locality             1255\n",
      "Estimated Value      1229\n",
      "Sale Price              0\n",
      "Property             1788\n",
      "Residential             0\n",
      "num_rooms               0\n",
      "num_bathrooms           0\n",
      "carpet_area          1282\n",
      "property_tax_rate       0\n",
      "Face                    0\n",
      "dtype: int64\n"
     ]
    }
   ],
   "source": [
    "print(df.isnull().sum())\n"
   ]
  },
  {
   "cell_type": "markdown",
   "id": "677a7bbe",
   "metadata": {},
   "source": [
    "### In the Year 2022, how many houses (rows) located in the Greenwich Locality have more than 3 num_room, and facing towards either the North or East\n"
   ]
  },
  {
   "cell_type": "code",
   "execution_count": 57,
   "id": "a6c7fa58",
   "metadata": {},
   "outputs": [
    {
     "data": {
      "text/html": [
       "<div>\n",
       "<style scoped>\n",
       "    .dataframe tbody tr th:only-of-type {\n",
       "        vertical-align: middle;\n",
       "    }\n",
       "\n",
       "    .dataframe tbody tr th {\n",
       "        vertical-align: top;\n",
       "    }\n",
       "\n",
       "    .dataframe thead th {\n",
       "        text-align: right;\n",
       "    }\n",
       "</style>\n",
       "<table border=\"1\" class=\"dataframe\">\n",
       "  <thead>\n",
       "    <tr style=\"text-align: right;\">\n",
       "      <th></th>\n",
       "      <th>Date</th>\n",
       "      <th>Year</th>\n",
       "      <th>Locality</th>\n",
       "      <th>Estimated Value</th>\n",
       "      <th>Sale Price</th>\n",
       "      <th>Property</th>\n",
       "      <th>Residential</th>\n",
       "      <th>num_rooms</th>\n",
       "      <th>num_bathrooms</th>\n",
       "      <th>carpet_area</th>\n",
       "      <th>property_tax_rate</th>\n",
       "      <th>Face</th>\n",
       "    </tr>\n",
       "  </thead>\n",
       "  <tbody>\n",
       "    <tr>\n",
       "      <th>9354</th>\n",
       "      <td>2022-03-20</td>\n",
       "      <td>2022</td>\n",
       "      <td>Greenwich</td>\n",
       "      <td>346080.0</td>\n",
       "      <td>715000.0</td>\n",
       "      <td>Two Family</td>\n",
       "      <td>Duplex</td>\n",
       "      <td>4</td>\n",
       "      <td>3</td>\n",
       "      <td>1284.0</td>\n",
       "      <td>1.003979</td>\n",
       "      <td>North</td>\n",
       "    </tr>\n",
       "    <tr>\n",
       "      <th>9390</th>\n",
       "      <td>2022-04-13</td>\n",
       "      <td>2022</td>\n",
       "      <td>Greenwich</td>\n",
       "      <td>3313240.0</td>\n",
       "      <td>4850000.0</td>\n",
       "      <td>Two Family</td>\n",
       "      <td>Duplex</td>\n",
       "      <td>4</td>\n",
       "      <td>2</td>\n",
       "      <td>1313.0</td>\n",
       "      <td>1.003979</td>\n",
       "      <td>North</td>\n",
       "    </tr>\n",
       "    <tr>\n",
       "      <th>9728</th>\n",
       "      <td>2022-08-03</td>\n",
       "      <td>2022</td>\n",
       "      <td>Greenwich</td>\n",
       "      <td>709520.0</td>\n",
       "      <td>1050000.0</td>\n",
       "      <td>Two Family</td>\n",
       "      <td>Duplex</td>\n",
       "      <td>4</td>\n",
       "      <td>2</td>\n",
       "      <td>1489.0</td>\n",
       "      <td>1.003979</td>\n",
       "      <td>East</td>\n",
       "    </tr>\n",
       "    <tr>\n",
       "      <th>9754</th>\n",
       "      <td>2022-08-07</td>\n",
       "      <td>2022</td>\n",
       "      <td>Greenwich</td>\n",
       "      <td>425320.0</td>\n",
       "      <td>745000.0</td>\n",
       "      <td>Two Family</td>\n",
       "      <td>Duplex</td>\n",
       "      <td>4</td>\n",
       "      <td>2</td>\n",
       "      <td>1399.0</td>\n",
       "      <td>1.003979</td>\n",
       "      <td>North</td>\n",
       "    </tr>\n",
       "  </tbody>\n",
       "</table>\n",
       "</div>"
      ],
      "text/plain": [
       "            Date  Year   Locality  Estimated Value  Sale Price    Property  \\\n",
       "9354  2022-03-20  2022  Greenwich         346080.0    715000.0  Two Family   \n",
       "9390  2022-04-13  2022  Greenwich        3313240.0   4850000.0  Two Family   \n",
       "9728  2022-08-03  2022  Greenwich         709520.0   1050000.0  Two Family   \n",
       "9754  2022-08-07  2022  Greenwich         425320.0    745000.0  Two Family   \n",
       "\n",
       "     Residential  num_rooms  num_bathrooms  carpet_area  property_tax_rate  \\\n",
       "9354      Duplex          4              3       1284.0           1.003979   \n",
       "9390      Duplex          4              2       1313.0           1.003979   \n",
       "9728      Duplex          4              2       1489.0           1.003979   \n",
       "9754      Duplex          4              2       1399.0           1.003979   \n",
       "\n",
       "       Face  \n",
       "9354  North  \n",
       "9390  North  \n",
       "9728   East  \n",
       "9754  North  "
      ]
     },
     "execution_count": 57,
     "metadata": {},
     "output_type": "execute_result"
    }
   ],
   "source": [
    "df.loc[(df[\"Year\"] == 2022) & (df['Locality'] == \"Greenwich\") & (df['num_rooms'] > 3) & ((df['Face'] == 'North') | (df['Face'] == 'East'))]"
   ]
  },
  {
   "cell_type": "markdown",
   "id": "3451d6d8",
   "metadata": {},
   "source": [
    "### Split the dataset into train dataset and test dataset in the following manner\n",
    "\n",
    "1. data(rows) collected before the year of 2021 [2009-2020] should be the train dataset\n",
    "2. data(rows) collected in the year of 2021 and 2022 (both inclusive) should be the test dataset\n",
    "3. columns except of the label vector should be the feature matrix (X_train or X_test)\n",
    "4. make label vector (Y_train or y_test) containing values only from the target feature.\n",
    "\n",
    "How many rows are in the feature matrix of the test dataset ?\n"
   ]
  },
  {
   "cell_type": "code",
   "execution_count": 58,
   "id": "d9e60614",
   "metadata": {},
   "outputs": [
    {
     "name": "stdout",
     "output_type": "stream",
     "text": [
      "(8265, 11) (1735, 11) (8265,) (1735,)\n",
      "Index(['Date', 'Year', 'Locality', 'Estimated Value', 'Property',\n",
      "       'Residential', 'num_rooms', 'num_bathrooms', 'carpet_area',\n",
      "       'property_tax_rate', 'Face'],\n",
      "      dtype='object')\n"
     ]
    },
    {
     "data": {
      "text/html": [
       "<div>\n",
       "<style scoped>\n",
       "    .dataframe tbody tr th:only-of-type {\n",
       "        vertical-align: middle;\n",
       "    }\n",
       "\n",
       "    .dataframe tbody tr th {\n",
       "        vertical-align: top;\n",
       "    }\n",
       "\n",
       "    .dataframe thead th {\n",
       "        text-align: right;\n",
       "    }\n",
       "</style>\n",
       "<table border=\"1\" class=\"dataframe\">\n",
       "  <thead>\n",
       "    <tr style=\"text-align: right;\">\n",
       "      <th></th>\n",
       "      <th>Date</th>\n",
       "      <th>Year</th>\n",
       "      <th>Locality</th>\n",
       "      <th>Estimated Value</th>\n",
       "      <th>Property</th>\n",
       "      <th>Residential</th>\n",
       "      <th>num_rooms</th>\n",
       "      <th>num_bathrooms</th>\n",
       "      <th>carpet_area</th>\n",
       "      <th>property_tax_rate</th>\n",
       "      <th>Face</th>\n",
       "    </tr>\n",
       "  </thead>\n",
       "  <tbody>\n",
       "    <tr>\n",
       "      <th>0</th>\n",
       "      <td>2009-01-02</td>\n",
       "      <td>2009</td>\n",
       "      <td>Waterbury</td>\n",
       "      <td>111440.0</td>\n",
       "      <td>Single Family</td>\n",
       "      <td>Detached House</td>\n",
       "      <td>3</td>\n",
       "      <td>3</td>\n",
       "      <td>996.0</td>\n",
       "      <td>1.025953</td>\n",
       "      <td>South</td>\n",
       "    </tr>\n",
       "    <tr>\n",
       "      <th>1</th>\n",
       "      <td>2009-01-02</td>\n",
       "      <td>2009</td>\n",
       "      <td>NaN</td>\n",
       "      <td>73080.0</td>\n",
       "      <td>Single Family</td>\n",
       "      <td>Detached House</td>\n",
       "      <td>3</td>\n",
       "      <td>1</td>\n",
       "      <td>935.0</td>\n",
       "      <td>1.025953</td>\n",
       "      <td>North</td>\n",
       "    </tr>\n",
       "    <tr>\n",
       "      <th>2</th>\n",
       "      <td>2009-01-02</td>\n",
       "      <td>2009</td>\n",
       "      <td>Waterbury</td>\n",
       "      <td>50540.0</td>\n",
       "      <td>Single Family</td>\n",
       "      <td>Detached House</td>\n",
       "      <td>3</td>\n",
       "      <td>1</td>\n",
       "      <td>951.0</td>\n",
       "      <td>1.025953</td>\n",
       "      <td>East</td>\n",
       "    </tr>\n",
       "    <tr>\n",
       "      <th>3</th>\n",
       "      <td>2009-01-02</td>\n",
       "      <td>2009</td>\n",
       "      <td>Norwalk</td>\n",
       "      <td>571060.0</td>\n",
       "      <td>Single Family</td>\n",
       "      <td>Detached House</td>\n",
       "      <td>3</td>\n",
       "      <td>2</td>\n",
       "      <td>NaN</td>\n",
       "      <td>1.025953</td>\n",
       "      <td>South</td>\n",
       "    </tr>\n",
       "    <tr>\n",
       "      <th>4</th>\n",
       "      <td>2009-01-02</td>\n",
       "      <td>2009</td>\n",
       "      <td>Bridgeport</td>\n",
       "      <td>4775276.0</td>\n",
       "      <td>Single Family</td>\n",
       "      <td>Detached House</td>\n",
       "      <td>3</td>\n",
       "      <td>1</td>\n",
       "      <td>971.0</td>\n",
       "      <td>1.025953</td>\n",
       "      <td>East</td>\n",
       "    </tr>\n",
       "  </tbody>\n",
       "</table>\n",
       "</div>"
      ],
      "text/plain": [
       "         Date  Year    Locality  Estimated Value       Property  \\\n",
       "0  2009-01-02  2009   Waterbury         111440.0  Single Family   \n",
       "1  2009-01-02  2009         NaN          73080.0  Single Family   \n",
       "2  2009-01-02  2009   Waterbury          50540.0  Single Family   \n",
       "3  2009-01-02  2009     Norwalk         571060.0  Single Family   \n",
       "4  2009-01-02  2009  Bridgeport        4775276.0  Single Family   \n",
       "\n",
       "      Residential  num_rooms  num_bathrooms  carpet_area  property_tax_rate  \\\n",
       "0  Detached House          3              3        996.0           1.025953   \n",
       "1  Detached House          3              1        935.0           1.025953   \n",
       "2  Detached House          3              1        951.0           1.025953   \n",
       "3  Detached House          3              2          NaN           1.025953   \n",
       "4  Detached House          3              1        971.0           1.025953   \n",
       "\n",
       "    Face  \n",
       "0  South  \n",
       "1  North  \n",
       "2   East  \n",
       "3  South  \n",
       "4   East  "
      ]
     },
     "execution_count": 58,
     "metadata": {},
     "output_type": "execute_result"
    }
   ],
   "source": [
    "df.Year.unique()\n",
    "xtrain = df.loc[df['Year'] < 2021].drop('Sale Price',axis = 1)\n",
    "xtest = df.loc[df['Year'] >= 2021].drop('Sale Price',axis = 1)\n",
    "ytrain = df.loc[df['Year'] < 2021]['Sale Price']\n",
    "ytest = df.loc[df['Year'] >= 2021]['Sale Price']\n",
    "print(xtrain.shape,xtest.shape,ytrain.shape,ytest.shape)\n",
    "print(xtrain.columns.unique())\n",
    "xtrain.head()\n"
   ]
  },
  {
   "cell_type": "code",
   "execution_count": 59,
   "id": "39957dd7",
   "metadata": {},
   "outputs": [
    {
     "data": {
      "text/plain": [
       "0        185000.0\n",
       "1        152000.0\n",
       "2        105000.0\n",
       "3       1000000.0\n",
       "4        272900.0\n",
       "          ...    \n",
       "8260    1300000.0\n",
       "8261     120000.0\n",
       "8262     240000.0\n",
       "8263     120000.0\n",
       "8264     175000.0\n",
       "Name: Sale Price, Length: 8265, dtype: float64"
      ]
     },
     "execution_count": 59,
     "metadata": {},
     "output_type": "execute_result"
    }
   ],
   "source": [
    "ytrain"
   ]
  },
  {
   "cell_type": "markdown",
   "id": "8986c762",
   "metadata": {},
   "source": [
    "### Rules for Imputing the missing(NaN) or unknown (\"?\") values:\n",
    "- compute the instructed statistical values for different columns in train dataset only to repalce missing(NaN) and unknown(\"?\") values respectively.\n",
    "- Replace the missing(NaN) and unknown(\"?\") values from the train and test dataset with the instructed statistical values computed using the train dataset only.\n",
    "- Ignore the missing and unknown values while calculating the statistical values.\n",
    "- Replace missing values(NaN) with the MOST FREQUENT value of the `Locality` feature\n",
    "- Repalce missing values(NaN) with the MEDIAN value of the `Estimated Value` feature\n",
    "- Replace missing values(NaN) with the MEAN value of the `carpet_area` feature\n",
    "- Replace Unknown values(\"?\") with the MOST FREQUENT value of the `Property`.\n",
    "- Write the answers related to the above imputation in below questions respectively.\n",
    "\n",
    "### Write the MEAN value of the carpet_area column of the train dataset you found to replace all the Missing Values (NaN). (upto 2 digits after decimal points)\n"
   ]
  },
  {
   "cell_type": "code",
   "execution_count": 60,
   "id": "e16d7df7",
   "metadata": {},
   "outputs": [],
   "source": [
    "from sklearn.impute import SimpleImputer\n",
    "from sklearn.compose import ColumnTransformer\n",
    "\n",
    "col = ColumnTransformer([(\"locsi\",SimpleImputer(strategy = 'most_frequent'),['Locality'])\n",
    "                        , (\"evsi\",SimpleImputer(strategy=\"median\"),[\"Estimated Value\"]),\n",
    "                        (\"casi\", SimpleImputer(strategy = 'mean'),['carpet_area']),\n",
    "                        (\"psi\",SimpleImputer(strategy=\"most_frequent\"),[\"Property\"])]\n",
    "                       ,remainder = 'passthrough',verbose_feature_names_out=False)\n",
    "xtrain_tr = col.fit_transform(xtrain)\n",
    "xtest_tr = col.transform(xtest)\n",
    "\n",
    "\n",
    "columns = ['Locality','Estimated Value',\"carpet_area\",'Property','Date', 'Year','Residential', 'num_rooms', 'num_bathrooms', \n",
    "           'property_tax_rate','Face']"
   ]
  },
  {
   "cell_type": "code",
   "execution_count": 61,
   "id": "6b4eda00",
   "metadata": {},
   "outputs": [
    {
     "data": {
      "text/plain": [
       "1110.9222453222155"
      ]
     },
     "execution_count": 61,
     "metadata": {},
     "output_type": "execute_result"
    }
   ],
   "source": [
    "xtrain_tr = pd.DataFrame(xtrain_tr,columns = col.get_feature_names_out())\n",
    "xtest_tr = pd.DataFrame(xtest_tr,columns = col.get_feature_names_out())\n",
    "np.mean(xtrain_tr['carpet_area'])"
   ]
  },
  {
   "cell_type": "markdown",
   "id": "5323a74e",
   "metadata": {},
   "source": [
    "### What value you used to replace the unknown value (\"?\") in the Property column of the train dataset?"
   ]
  },
  {
   "cell_type": "code",
   "execution_count": 62,
   "id": "5b46f0fd",
   "metadata": {},
   "outputs": [
    {
     "name": "stdout",
     "output_type": "stream",
     "text": [
      "count              6800\n",
      "unique                4\n",
      "top       Single Family\n",
      "freq               5637\n",
      "Name: Property, dtype: object \n",
      "\n"
     ]
    },
    {
     "data": {
      "text/plain": [
       "Single Family    7102\n",
       "Two Family        697\n",
       "Three Family      394\n",
       "Four Family        72\n",
       "Name: Property, dtype: int64"
      ]
     },
     "execution_count": 62,
     "metadata": {},
     "output_type": "execute_result"
    }
   ],
   "source": [
    "print(xtrain['Property'].describe(),'\\n')\n",
    "xtrain_tr[\"Property\"].value_counts()"
   ]
  },
  {
   "cell_type": "markdown",
   "id": "5d7b95f5",
   "metadata": {},
   "source": [
    "### Apply preprocessing on features of train and test datasets.\n",
    "- Drop the 'Date' Column before the preprocessing steps.\n",
    "- before applying any preprocessing there should not be any missing or unknown values present in the train and test dataset.\n",
    "- fitting (learning) should be done only on train dataset.\n",
    "- transform the test dataset using the fitting (learning) of train dataset\n",
    "\n",
    "## For Numerical Features\n",
    "- Scale the numerical feature of the feature matrix using the Min-Max Scaler\n",
    "\n",
    "## For Categorical Features\n",
    "- One-Hot Encode all categorical features(object columns) in the feature matrix\n"
   ]
  },
  {
   "cell_type": "code",
   "execution_count": 63,
   "id": "0288e557",
   "metadata": {},
   "outputs": [],
   "source": [
    "types\n",
    "numerical = ['Year', 'num_rooms', 'num_bathrooms','Estimated Value',  'carpet_area', 'property_tax_rate']\n",
    "categorical = ['Locality', 'Property', 'Residential', 'Face']\n",
    "\n",
    "from sklearn.preprocessing import MinMaxScaler,OneHotEncoder\n",
    "from sklearn.pipeline import Pipeline\n",
    "\n",
    "pipe = Pipeline([(\"pipepp\",MinMaxScaler())])\n",
    "\n",
    "\n",
    "xtrain_tr = xtrain_tr.drop('Date',axis = 1)\n",
    "xtest_tr = xtest_tr.drop('Date',axis = 1)"
   ]
  },
  {
   "cell_type": "code",
   "execution_count": 64,
   "id": "a3391b04",
   "metadata": {},
   "outputs": [
    {
     "data": {
      "text/html": [
       "<style>#sk-container-id-2 {color: black;background-color: white;}#sk-container-id-2 pre{padding: 0;}#sk-container-id-2 div.sk-toggleable {background-color: white;}#sk-container-id-2 label.sk-toggleable__label {cursor: pointer;display: block;width: 100%;margin-bottom: 0;padding: 0.3em;box-sizing: border-box;text-align: center;}#sk-container-id-2 label.sk-toggleable__label-arrow:before {content: \"▸\";float: left;margin-right: 0.25em;color: #696969;}#sk-container-id-2 label.sk-toggleable__label-arrow:hover:before {color: black;}#sk-container-id-2 div.sk-estimator:hover label.sk-toggleable__label-arrow:before {color: black;}#sk-container-id-2 div.sk-toggleable__content {max-height: 0;max-width: 0;overflow: hidden;text-align: left;background-color: #f0f8ff;}#sk-container-id-2 div.sk-toggleable__content pre {margin: 0.2em;color: black;border-radius: 0.25em;background-color: #f0f8ff;}#sk-container-id-2 input.sk-toggleable__control:checked~div.sk-toggleable__content {max-height: 200px;max-width: 100%;overflow: auto;}#sk-container-id-2 input.sk-toggleable__control:checked~label.sk-toggleable__label-arrow:before {content: \"▾\";}#sk-container-id-2 div.sk-estimator input.sk-toggleable__control:checked~label.sk-toggleable__label {background-color: #d4ebff;}#sk-container-id-2 div.sk-label input.sk-toggleable__control:checked~label.sk-toggleable__label {background-color: #d4ebff;}#sk-container-id-2 input.sk-hidden--visually {border: 0;clip: rect(1px 1px 1px 1px);clip: rect(1px, 1px, 1px, 1px);height: 1px;margin: -1px;overflow: hidden;padding: 0;position: absolute;width: 1px;}#sk-container-id-2 div.sk-estimator {font-family: monospace;background-color: #f0f8ff;border: 1px dotted black;border-radius: 0.25em;box-sizing: border-box;margin-bottom: 0.5em;}#sk-container-id-2 div.sk-estimator:hover {background-color: #d4ebff;}#sk-container-id-2 div.sk-parallel-item::after {content: \"\";width: 100%;border-bottom: 1px solid gray;flex-grow: 1;}#sk-container-id-2 div.sk-label:hover label.sk-toggleable__label {background-color: #d4ebff;}#sk-container-id-2 div.sk-serial::before {content: \"\";position: absolute;border-left: 1px solid gray;box-sizing: border-box;top: 0;bottom: 0;left: 50%;z-index: 0;}#sk-container-id-2 div.sk-serial {display: flex;flex-direction: column;align-items: center;background-color: white;padding-right: 0.2em;padding-left: 0.2em;position: relative;}#sk-container-id-2 div.sk-item {position: relative;z-index: 1;}#sk-container-id-2 div.sk-parallel {display: flex;align-items: stretch;justify-content: center;background-color: white;position: relative;}#sk-container-id-2 div.sk-item::before, #sk-container-id-2 div.sk-parallel-item::before {content: \"\";position: absolute;border-left: 1px solid gray;box-sizing: border-box;top: 0;bottom: 0;left: 50%;z-index: -1;}#sk-container-id-2 div.sk-parallel-item {display: flex;flex-direction: column;z-index: 1;position: relative;background-color: white;}#sk-container-id-2 div.sk-parallel-item:first-child::after {align-self: flex-end;width: 50%;}#sk-container-id-2 div.sk-parallel-item:last-child::after {align-self: flex-start;width: 50%;}#sk-container-id-2 div.sk-parallel-item:only-child::after {width: 0;}#sk-container-id-2 div.sk-dashed-wrapped {border: 1px dashed gray;margin: 0 0.4em 0.5em 0.4em;box-sizing: border-box;padding-bottom: 0.4em;background-color: white;}#sk-container-id-2 div.sk-label label {font-family: monospace;font-weight: bold;display: inline-block;line-height: 1.2em;}#sk-container-id-2 div.sk-label-container {text-align: center;}#sk-container-id-2 div.sk-container {/* jupyter's `normalize.less` sets `[hidden] { display: none; }` but bootstrap.min.css set `[hidden] { display: none !important; }` so we also need the `!important` here to be able to override the default hidden behavior on the sphinx rendered scikit-learn.org. See: https://github.com/scikit-learn/scikit-learn/issues/21755 */display: inline-block !important;position: relative;}#sk-container-id-2 div.sk-text-repr-fallback {display: none;}</style><div id=\"sk-container-id-2\" class=\"sk-top-container\"><div class=\"sk-text-repr-fallback\"><pre>ColumnTransformer(remainder=&#x27;passthrough&#x27;,\n",
       "                  transformers=[(&#x27;numpp&#x27;,\n",
       "                                 Pipeline(steps=[(&#x27;pipepp&#x27;, MinMaxScaler())]),\n",
       "                                 [&#x27;Year&#x27;, &#x27;num_rooms&#x27;, &#x27;num_bathrooms&#x27;,\n",
       "                                  &#x27;Estimated Value&#x27;, &#x27;carpet_area&#x27;,\n",
       "                                  &#x27;property_tax_rate&#x27;]),\n",
       "                                (&#x27;catpp&#x27;, OneHotEncoder(),\n",
       "                                 [&#x27;Locality&#x27;, &#x27;Property&#x27;, &#x27;Residential&#x27;,\n",
       "                                  &#x27;Face&#x27;])])</pre><b>In a Jupyter environment, please rerun this cell to show the HTML representation or trust the notebook. <br />On GitHub, the HTML representation is unable to render, please try loading this page with nbviewer.org.</b></div><div class=\"sk-container\" hidden><div class=\"sk-item sk-dashed-wrapped\"><div class=\"sk-label-container\"><div class=\"sk-label sk-toggleable\"><input class=\"sk-toggleable__control sk-hidden--visually\" id=\"sk-estimator-id-8\" type=\"checkbox\" ><label for=\"sk-estimator-id-8\" class=\"sk-toggleable__label sk-toggleable__label-arrow\">ColumnTransformer</label><div class=\"sk-toggleable__content\"><pre>ColumnTransformer(remainder=&#x27;passthrough&#x27;,\n",
       "                  transformers=[(&#x27;numpp&#x27;,\n",
       "                                 Pipeline(steps=[(&#x27;pipepp&#x27;, MinMaxScaler())]),\n",
       "                                 [&#x27;Year&#x27;, &#x27;num_rooms&#x27;, &#x27;num_bathrooms&#x27;,\n",
       "                                  &#x27;Estimated Value&#x27;, &#x27;carpet_area&#x27;,\n",
       "                                  &#x27;property_tax_rate&#x27;]),\n",
       "                                (&#x27;catpp&#x27;, OneHotEncoder(),\n",
       "                                 [&#x27;Locality&#x27;, &#x27;Property&#x27;, &#x27;Residential&#x27;,\n",
       "                                  &#x27;Face&#x27;])])</pre></div></div></div><div class=\"sk-parallel\"><div class=\"sk-parallel-item\"><div class=\"sk-item\"><div class=\"sk-label-container\"><div class=\"sk-label sk-toggleable\"><input class=\"sk-toggleable__control sk-hidden--visually\" id=\"sk-estimator-id-9\" type=\"checkbox\" ><label for=\"sk-estimator-id-9\" class=\"sk-toggleable__label sk-toggleable__label-arrow\">numpp</label><div class=\"sk-toggleable__content\"><pre>[&#x27;Year&#x27;, &#x27;num_rooms&#x27;, &#x27;num_bathrooms&#x27;, &#x27;Estimated Value&#x27;, &#x27;carpet_area&#x27;, &#x27;property_tax_rate&#x27;]</pre></div></div></div><div class=\"sk-serial\"><div class=\"sk-item\"><div class=\"sk-serial\"><div class=\"sk-item\"><div class=\"sk-estimator sk-toggleable\"><input class=\"sk-toggleable__control sk-hidden--visually\" id=\"sk-estimator-id-10\" type=\"checkbox\" ><label for=\"sk-estimator-id-10\" class=\"sk-toggleable__label sk-toggleable__label-arrow\">MinMaxScaler</label><div class=\"sk-toggleable__content\"><pre>MinMaxScaler()</pre></div></div></div></div></div></div></div></div><div class=\"sk-parallel-item\"><div class=\"sk-item\"><div class=\"sk-label-container\"><div class=\"sk-label sk-toggleable\"><input class=\"sk-toggleable__control sk-hidden--visually\" id=\"sk-estimator-id-11\" type=\"checkbox\" ><label for=\"sk-estimator-id-11\" class=\"sk-toggleable__label sk-toggleable__label-arrow\">catpp</label><div class=\"sk-toggleable__content\"><pre>[&#x27;Locality&#x27;, &#x27;Property&#x27;, &#x27;Residential&#x27;, &#x27;Face&#x27;]</pre></div></div></div><div class=\"sk-serial\"><div class=\"sk-item\"><div class=\"sk-estimator sk-toggleable\"><input class=\"sk-toggleable__control sk-hidden--visually\" id=\"sk-estimator-id-12\" type=\"checkbox\" ><label for=\"sk-estimator-id-12\" class=\"sk-toggleable__label sk-toggleable__label-arrow\">OneHotEncoder</label><div class=\"sk-toggleable__content\"><pre>OneHotEncoder()</pre></div></div></div></div></div></div><div class=\"sk-parallel-item\"><div class=\"sk-item\"><div class=\"sk-label-container\"><div class=\"sk-label sk-toggleable\"><input class=\"sk-toggleable__control sk-hidden--visually\" id=\"sk-estimator-id-13\" type=\"checkbox\" ><label for=\"sk-estimator-id-13\" class=\"sk-toggleable__label sk-toggleable__label-arrow\">remainder</label><div class=\"sk-toggleable__content\"><pre>[]</pre></div></div></div><div class=\"sk-serial\"><div class=\"sk-item\"><div class=\"sk-estimator sk-toggleable\"><input class=\"sk-toggleable__control sk-hidden--visually\" id=\"sk-estimator-id-14\" type=\"checkbox\" ><label for=\"sk-estimator-id-14\" class=\"sk-toggleable__label sk-toggleable__label-arrow\">passthrough</label><div class=\"sk-toggleable__content\"><pre>passthrough</pre></div></div></div></div></div></div></div></div></div></div>"
      ],
      "text/plain": [
       "ColumnTransformer(remainder='passthrough',\n",
       "                  transformers=[('numpp',\n",
       "                                 Pipeline(steps=[('pipepp', MinMaxScaler())]),\n",
       "                                 ['Year', 'num_rooms', 'num_bathrooms',\n",
       "                                  'Estimated Value', 'carpet_area',\n",
       "                                  'property_tax_rate']),\n",
       "                                ('catpp', OneHotEncoder(),\n",
       "                                 ['Locality', 'Property', 'Residential',\n",
       "                                  'Face'])])"
      ]
     },
     "execution_count": 64,
     "metadata": {},
     "output_type": "execute_result"
    }
   ],
   "source": [
    "col_pp = ColumnTransformer([(\"numpp\",pipe,numerical),\n",
    "                            (\"catpp\",OneHotEncoder(),categorical)],remainder = \"passthrough\")\n",
    "\n",
    "xtrain_pp = col_pp.fit_transform((xtrain_tr))\n",
    "xtest_pp = col_pp.transform((xtest_tr))\n",
    "col_pp"
   ]
  },
  {
   "cell_type": "markdown",
   "id": "5e03fe5b",
   "metadata": {},
   "source": [
    "### How many total features you got after one-hot encoding and scaling the training dataset?"
   ]
  },
  {
   "cell_type": "code",
   "execution_count": 65,
   "id": "e56cd30b",
   "metadata": {},
   "outputs": [
    {
     "data": {
      "text/plain": [
       "array([[0.        , 0.        , 0.28571429, 0.00527654, 0.04599904,\n",
       "        0.01398097, 0.        , 0.        , 0.        , 0.        ,\n",
       "        0.        , 1.        , 0.        , 0.        , 1.        ,\n",
       "        0.        , 0.        , 1.        , 0.        , 0.        ,\n",
       "        0.        , 0.        , 0.        , 1.        , 0.        ]])"
      ]
     },
     "execution_count": 65,
     "metadata": {},
     "output_type": "execute_result"
    }
   ],
   "source": [
    "xtrain_pp.shape     \n",
    "xtrain_pp[:1]"
   ]
  },
  {
   "cell_type": "markdown",
   "id": "ac10f3ec",
   "metadata": {},
   "source": [
    "### Apply LinearRegression on the train dataset(X_train and y_train). What is the R2 score on the test dataset(X_test and y_test). (Upto 4 digits after decimal points)"
   ]
  },
  {
   "cell_type": "code",
   "execution_count": 67,
   "id": "b7bf80c3",
   "metadata": {},
   "outputs": [
    {
     "data": {
      "text/plain": [
       "0.7891559503405648"
      ]
     },
     "execution_count": 67,
     "metadata": {},
     "output_type": "execute_result"
    }
   ],
   "source": [
    "from sklearn.linear_model import LinearRegression\n",
    "from sklearn.metrics import r2_score\n",
    "lin = LinearRegression()\n",
    "lin.fit(xtrain_pp,ytrain)\n",
    "\n",
    "ytrain_pred = lin.predict(xtrain_pp)\n",
    "\n",
    "lin.score(xtest_pp,ytest)"
   ]
  },
  {
   "cell_type": "markdown",
   "id": "641ab977",
   "metadata": {},
   "source": [
    "### Enter the maximum value of 𝑅2 score you got using the LinearRegression model when computed with 5 folds from the training dataset (X_train and y_train) using cross_val_score. ( Upto 4 digits after decimal points) obtained."
   ]
  },
  {
   "cell_type": "code",
   "execution_count": 70,
   "id": "db4323cc",
   "metadata": {},
   "outputs": [
    {
     "data": {
      "text/plain": [
       "0.7944554662635981"
      ]
     },
     "execution_count": 70,
     "metadata": {},
     "output_type": "execute_result"
    }
   ],
   "source": [
    "from sklearn.model_selection import cross_val_score\n",
    "\n",
    "\n",
    "score = cross_val_score(lin,xtrain_pp,ytrain,scoring = \"r2\")\n",
    "score.max()"
   ]
  },
  {
   "cell_type": "markdown",
   "id": "4ab4f0e7",
   "metadata": {},
   "source": [
    "### Train Ridge and Lasso with random_state=27 and keep other parameters as default using train dataset. Which one has the least \"mean squared error\" for the test dataset."
   ]
  },
  {
   "cell_type": "code",
   "execution_count": 71,
   "id": "711200db",
   "metadata": {},
   "outputs": [
    {
     "name": "stdout",
     "output_type": "stream",
     "text": [
      "164165615920.39453\n",
      "155264967194.13284\n",
      "Clearly Lasso has the least mean squared error 155264967194.13284\n"
     ]
    },
    {
     "name": "stderr",
     "output_type": "stream",
     "text": [
      "C:\\Users\\rahul gupta\\AppData\\Local\\Packages\\PythonSoftwareFoundation.Python.3.9_qbz5n2kfra8p0\\LocalCache\\local-packages\\Python39\\site-packages\\sklearn\\linear_model\\_coordinate_descent.py:631: ConvergenceWarning: Objective did not converge. You might want to increase the number of iterations, check the scale of the features or consider increasing regularisation. Duality gap: 4.541e+14, tolerance: 9.324e+11\n",
      "  model = cd_fast.enet_coordinate_descent(\n"
     ]
    }
   ],
   "source": [
    "from sklearn.linear_model import Ridge,Lasso,SGDRegressor\n",
    "from sklearn.metrics import mean_squared_error\n",
    "\n",
    "rig = Ridge(random_state=27)\n",
    "rig.fit(xtrain_pp,ytrain)\n",
    "ytest_pred_ridge = rig.predict(xtest_pp)\n",
    "mser = mean_squared_error(ytest,ytest_pred_ridge)\n",
    "print(mser)\n",
    "\n",
    "las = Lasso(random_state=27)\n",
    "las.fit(xtrain_pp,ytrain)\n",
    "ytest_pred_lasso = las.predict(xtest_pp)\n",
    "msel = mean_squared_error(ytest,ytest_pred_lasso)\n",
    "print(msel)\n",
    "\n",
    "print(f\"Clearly Lasso has the least mean squared error {msel}\")"
   ]
  },
  {
   "cell_type": "markdown",
   "id": "f07cd7c7",
   "metadata": {},
   "source": [
    "### Train the SGDRegressor(random_state=27,warm_start=True) with maximum passes over the train dataset can be 100. Write the correct R2 score for this estimator on test dataset [NAT] (correct Upto 4 digits)\n"
   ]
  },
  {
   "cell_type": "code",
   "execution_count": 74,
   "id": "6ec47e12",
   "metadata": {},
   "outputs": [
    {
     "name": "stderr",
     "output_type": "stream",
     "text": [
      "C:\\Users\\rahul gupta\\AppData\\Local\\Packages\\PythonSoftwareFoundation.Python.3.9_qbz5n2kfra8p0\\LocalCache\\local-packages\\Python39\\site-packages\\sklearn\\linear_model\\_stochastic_gradient.py:1549: ConvergenceWarning: Maximum number of iteration reached before convergence. Consider increasing max_iter to improve the fit.\n",
      "  warnings.warn(\n"
     ]
    },
    {
     "data": {
      "text/plain": [
       "0.5675170814504262"
      ]
     },
     "execution_count": 74,
     "metadata": {},
     "output_type": "execute_result"
    }
   ],
   "source": [
    "sgd = SGDRegressor(random_state=27,warm_start=True,max_iter=100)\n",
    "sgd.fit(xtrain_pp,ytrain)\n",
    "ytrain_pred_sgd = sgd.predict(xtrain_pp)\n",
    "ytest_pred_sgd =  sgd.predict(xtest_pp)\n",
    "score_sgd = r2_score(ytest,ytest_pred_sgd)\n",
    "score_sgd"
   ]
  },
  {
   "cell_type": "markdown",
   "id": "5d8b22b1",
   "metadata": {},
   "source": [
    "### (Common Instructions for Question 14 and 15)\n",
    "- create a pipeline of the PolynomialFeatures(interaction_only=True) as transformer and Lasso as an estimator.\n",
    "- Use GridSearchCV for tuning the hyperparameters of the created pipeline on training dataset.\n",
    "1. Keep polynomial degree as : [1,2]\n",
    "2. lasso alpha value to be taken as : [10,100,1000,10000]\n",
    "3. scoring : neg_mean_absolute_error.\n",
    "4. cv = 5\n",
    "5. n_jobs = -1 (negative one) [it helps in using all the computational power to run this job]\n",
    "\n",
    "(Note: Kindly ignore the warning.)\n",
    "\n",
    "### Mark the best alpha value you got using above instructions."
   ]
  },
  {
   "cell_type": "code",
   "execution_count": 75,
   "id": "6d98a363",
   "metadata": {},
   "outputs": [
    {
     "data": {
      "text/plain": [
       "{'las__alpha': 1000, 'poly__degree': 1}"
      ]
     },
     "execution_count": 75,
     "metadata": {},
     "output_type": "execute_result"
    }
   ],
   "source": [
    "param_grid = ({\"poly__degree\" : [1,2],\n",
    "              \"las__alpha\" :[10,100,1000,10000] })\n",
    "from sklearn.model_selection import GridSearchCV\n",
    "from sklearn.preprocessing import PolynomialFeatures\n",
    "ppgscv = Pipeline([(\"poly\",PolynomialFeatures(interaction_only=True)),\n",
    "                  (\"las\",Lasso())])\n",
    "\n",
    "result = GridSearchCV(ppgscv,param_grid = param_grid, cv = 5 ,n_jobs = -1,scoring = 'neg_mean_absolute_error')\n",
    "result.fit(xtrain_pp,ytrain)\n",
    "result.best_params_"
   ]
  },
  {
   "cell_type": "markdown",
   "id": "0170d06f",
   "metadata": {},
   "source": [
    "### (Common Instructions for Question 18-20)\n",
    "Construct a pipeline to apply following steps: \n",
    "   - STEP-1 Selecting 10 best features based on the f_regression score function.\n",
    "   - STEP-2 Apply Lasso algorithm with random_state=27 on that\n",
    "\n",
    "### What is the max P-VALUE you got for any feature of the train dataset?(upto 4 digits after the decimal)\n"
   ]
  },
  {
   "cell_type": "code",
   "execution_count": 76,
   "id": "94892230",
   "metadata": {},
   "outputs": [
    {
     "data": {
      "text/plain": [
       "0.7496377947640863"
      ]
     },
     "execution_count": 76,
     "metadata": {},
     "output_type": "execute_result"
    }
   ],
   "source": [
    "from sklearn.feature_selection import SelectKBest,f_regression\n",
    "\n",
    "pipes = Pipeline([(\"skb\",SelectKBest(f_regression,k = 10)),\n",
    "                (\"estimator\",Lasso(random_state=27))])\n",
    "pipes.fit(xtrain_pp,ytrain)\n",
    "\n",
    "skb = SelectKBest(f_regression,k = 10)\n",
    "a = skb.fit(xtrain_pp,ytrain)\n",
    "a.pvalues_.max()"
   ]
  },
  {
   "cell_type": "markdown",
   "id": "c5ec432a",
   "metadata": {},
   "source": [
    "### What is the R2 score you got for this model using the test dataset? (upto 4 digits after the decimal)"
   ]
  },
  {
   "cell_type": "code",
   "execution_count": 81,
   "id": "2cbe5b70",
   "metadata": {},
   "outputs": [
    {
     "data": {
      "text/plain": [
       "0.7871512249951642"
      ]
     },
     "execution_count": 81,
     "metadata": {},
     "output_type": "execute_result"
    }
   ],
   "source": [
    "res = r2_score(ytest,pipes.predict(xtest_pp))\n",
    "res"
   ]
  },
  {
   "cell_type": "markdown",
   "id": "641a86a4",
   "metadata": {},
   "source": [
    "### What is the max F_STATISTICS score you got for any feature of the train dataset?  (upto 2 digits after the decimal)"
   ]
  },
  {
   "cell_type": "code",
   "execution_count": 80,
   "id": "e7a760f4",
   "metadata": {},
   "outputs": [
    {
     "data": {
      "text/plain": [
       "21658.084015119446"
      ]
     },
     "execution_count": 80,
     "metadata": {},
     "output_type": "execute_result"
    }
   ],
   "source": [
    "pipes[0].scores_.max()"
   ]
  },
  {
   "cell_type": "code",
   "execution_count": null,
   "id": "efac2cf6",
   "metadata": {},
   "outputs": [],
   "source": []
  }
 ],
 "metadata": {
  "kernelspec": {
   "display_name": "Python 3 (ipykernel)",
   "language": "python",
   "name": "python3"
  },
  "language_info": {
   "codemirror_mode": {
    "name": "ipython",
    "version": 3
   },
   "file_extension": ".py",
   "mimetype": "text/x-python",
   "name": "python",
   "nbconvert_exporter": "python",
   "pygments_lexer": "ipython3",
   "version": "3.9.13"
  }
 },
 "nbformat": 4,
 "nbformat_minor": 5
}
