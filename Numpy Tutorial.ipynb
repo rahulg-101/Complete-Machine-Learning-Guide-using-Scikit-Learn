{
 "cells": [
  {
   "cell_type": "markdown",
   "id": "246f9cfc",
   "metadata": {},
   "source": [
    "# Numpy Tutorial\n"
   ]
  },
  {
   "cell_type": "code",
   "execution_count": 3,
   "id": "2f3cf6af",
   "metadata": {},
   "outputs": [],
   "source": [
    "import numpy as np"
   ]
  },
  {
   "cell_type": "markdown",
   "id": "4a20b94c",
   "metadata": {},
   "source": [
    "## The basics"
   ]
  },
  {
   "cell_type": "code",
   "execution_count": 51,
   "id": "b7e7042a",
   "metadata": {},
   "outputs": [
    {
     "name": "stdout",
     "output_type": "stream",
     "text": [
      "[1 2 3]\n"
     ]
    }
   ],
   "source": [
    "a = np.array([1,2,3])\n",
    "print(a)"
   ]
  },
  {
   "cell_type": "code",
   "execution_count": 20,
   "id": "a0ff0b15",
   "metadata": {},
   "outputs": [
    {
     "name": "stdout",
     "output_type": "stream",
     "text": [
      "int16\n"
     ]
    }
   ],
   "source": [
    "#You can also specify the datatype value while creating an array\n",
    "c = np.array([4,5,6,8],dtype = 'int16')\n",
    "print(c.dtype)"
   ]
  },
  {
   "cell_type": "code",
   "execution_count": 8,
   "id": "9a390bed",
   "metadata": {},
   "outputs": [
    {
     "name": "stdout",
     "output_type": "stream",
     "text": [
      "[[9.1 8.2 7.4]\n",
      " [6.7 3.7 2.3]]\n"
     ]
    }
   ],
   "source": [
    "b = np.array([[9.1,8.2,7.4],[6.7,3.7,2.3]])\n",
    "print(b)"
   ]
  },
  {
   "cell_type": "code",
   "execution_count": 12,
   "id": "5dd3c691",
   "metadata": {},
   "outputs": [
    {
     "name": "stdout",
     "output_type": "stream",
     "text": [
      "Dimension of a is  1\n",
      "Dimension of b is  2\n"
     ]
    }
   ],
   "source": [
    "#Get dimensions using ndim method\n",
    "print(\"Dimension of a is \",a.ndim)\n",
    "print(\"Dimension of b is \",b.ndim)"
   ]
  },
  {
   "cell_type": "code",
   "execution_count": 16,
   "id": "2b51709e",
   "metadata": {},
   "outputs": [
    {
     "name": "stdout",
     "output_type": "stream",
     "text": [
      "(3,)\n"
     ]
    },
    {
     "data": {
      "text/plain": [
       "(2, 3)"
      ]
     },
     "execution_count": 16,
     "metadata": {},
     "output_type": "execute_result"
    }
   ],
   "source": [
    "#To know the shape of the array (row,column) and when the row is 1, it will output only the column\n",
    "print(a.shape)\n",
    "b.shape"
   ]
  },
  {
   "cell_type": "code",
   "execution_count": 24,
   "id": "8c991892",
   "metadata": {},
   "outputs": [
    {
     "name": "stdout",
     "output_type": "stream",
     "text": [
      "int32\n"
     ]
    },
    {
     "data": {
      "text/plain": [
       "dtype('float64')"
      ]
     },
     "execution_count": 24,
     "metadata": {},
     "output_type": "execute_result"
    }
   ],
   "source": [
    "# Get the type using variable.dtype method\n",
    "print(a.dtype)\n",
    "b.dtype"
   ]
  },
  {
   "cell_type": "code",
   "execution_count": 107,
   "id": "720ea1b2",
   "metadata": {},
   "outputs": [
    {
     "name": "stdout",
     "output_type": "stream",
     "text": [
      "4\n",
      "2\n",
      "14\n"
     ]
    }
   ],
   "source": [
    "# To know the number of bytes a particular value is taking in memory we can use the itemsize method\n",
    "print(a.itemsize) #The o/p 4 means that each element in it is taking 4 bytes in memory\n",
    "print(c.itemsize)#The o/p 2 means that each element in it is taking 2 bytes in memory"
   ]
  },
  {
   "cell_type": "code",
   "execution_count": 33,
   "id": "ed794b80",
   "metadata": {},
   "outputs": [
    {
     "data": {
      "text/plain": [
       "48"
      ]
     },
     "execution_count": 33,
     "metadata": {},
     "output_type": "execute_result"
    }
   ],
   "source": [
    "#To know the complete size or number of bytes a particular array is occupying can be done using nbytes method\n",
    "b.nbytes # it is equal to number of bytes each item takes * no of items in array which can also be obtained from a.size method which return the no of items in array"
   ]
  },
  {
   "cell_type": "markdown",
   "id": "393de98a",
   "metadata": {},
   "source": [
    ".\n",
    "\n",
    "\n",
    "\n",
    "\n",
    "\n",
    "\n",
    "\n",
    "\n",
    "# Accessing/Changing specific elements,rows,columns etc"
   ]
  },
  {
   "cell_type": "code",
   "execution_count": 60,
   "id": "22072c52",
   "metadata": {},
   "outputs": [
    {
     "data": {
      "text/plain": [
       "array([[ 1,  2,  3,  4,  5,  6,  7],\n",
       "       [ 8,  9, 10, 11, 12, 13, 14]])"
      ]
     },
     "execution_count": 60,
     "metadata": {},
     "output_type": "execute_result"
    }
   ],
   "source": [
    "a = np.array([[1,2,3,4,5,6,7],[8,9,10,11,12,13,14]])\n",
    "a"
   ]
  },
  {
   "cell_type": "code",
   "execution_count": 61,
   "id": "d5919ba0",
   "metadata": {},
   "outputs": [
    {
     "name": "stdout",
     "output_type": "stream",
     "text": [
      "particular element from a :  3\n",
      "The result can be achieved through negative notation as well 3\n",
      "To print second row :  [ 8  9 10 11 12 13 14]\n",
      "To print a 4th column : [ 4 11]\n"
     ]
    },
    {
     "data": {
      "text/plain": [
       "2"
      ]
     },
     "execution_count": 61,
     "metadata": {},
     "output_type": "execute_result"
    }
   ],
   "source": [
    "#Get specific element in the form of [Row,Column]\n",
    "print(\"particular element from a : \",a[0,2]) #0th row and 2nd column\n",
    "print(\"The result can be achieved through negative notation as well\", a[0,-5])\n",
    "\n",
    "#get a specific row\n",
    "print(\"To print second row : \",a[1,:] )\n",
    "\n",
    "#get specific column\n",
    "print(\"To print a 4th column :\",a[:,3]) #indexing starts from 0\n",
    "\n"
   ]
  },
  {
   "cell_type": "code",
   "execution_count": 66,
   "id": "ec1f1326",
   "metadata": {},
   "outputs": [
    {
     "data": {
      "text/plain": [
       "array([2, 4, 6])"
      ]
     },
     "execution_count": 66,
     "metadata": {},
     "output_type": "execute_result"
    }
   ],
   "source": [
    "#Getting a little more fancy [start_index:end_index:step_size]\n",
    "a[0,1:-1:2] \n",
    "\n",
    "#Here what we did is we extracted all the values from zeroth row and values from first column \n",
    "#to sixth column with a step of 2\n"
   ]
  },
  {
   "cell_type": "code",
   "execution_count": 70,
   "id": "e51a2f15",
   "metadata": {},
   "outputs": [
    {
     "data": {
      "text/plain": [
       "array([[ 1,  2,  3,  4,  5,  6,  7],\n",
       "       [ 8,  9, 10, 11, 55, 13, 14]])"
      ]
     },
     "execution_count": 70,
     "metadata": {},
     "output_type": "execute_result"
    }
   ],
   "source": [
    "#to change the element from a particular position\n",
    "a[1,4] = 55\n",
    "a"
   ]
  },
  {
   "cell_type": "code",
   "execution_count": 75,
   "id": "51efecd5",
   "metadata": {},
   "outputs": [
    {
     "data": {
      "text/plain": [
       "array([[90, 91, 92, 93, 94, 95, 96],\n",
       "       [ 8,  9, 80, 11, 55, 13, 14]])"
      ]
     },
     "execution_count": 75,
     "metadata": {},
     "output_type": "execute_result"
    }
   ],
   "source": [
    "#We can replace value of a particular series as well\n",
    "a[:,2] = 80\n",
    "a\n",
    "\n",
    "a[0,:] = [90,91,92,93,94,95,96]\n",
    "a"
   ]
  },
  {
   "cell_type": "markdown",
   "id": "47437825",
   "metadata": {},
   "source": [
    "### 3D example"
   ]
  },
  {
   "cell_type": "code",
   "execution_count": 85,
   "id": "5bc778d8",
   "metadata": {
    "scrolled": true
   },
   "outputs": [
    {
     "name": "stdout",
     "output_type": "stream",
     "text": [
      "[[[1 2]\n",
      "  [3 4]]\n",
      "\n",
      " [[5 6]\n",
      "  [7 8]]]\n"
     ]
    },
    {
     "data": {
      "text/plain": [
       "array([3, 7])"
      ]
     },
     "execution_count": 85,
     "metadata": {},
     "output_type": "execute_result"
    }
   ],
   "source": [
    "b = np.array([[[1,2],[3,4]],[[5,6],[7,8]]])\n",
    "print(b)\n",
    "\n",
    "# To get specific element\n",
    "\n",
    "b[:,1,0]"
   ]
  },
  {
   "cell_type": "code",
   "execution_count": 88,
   "id": "22208325",
   "metadata": {},
   "outputs": [
    {
     "data": {
      "text/plain": [
       "array([[[1, 2],\n",
       "        [8, 4]],\n",
       "\n",
       "       [[5, 6],\n",
       "        [9, 8]]])"
      ]
     },
     "execution_count": 88,
     "metadata": {},
     "output_type": "execute_result"
    }
   ],
   "source": [
    "#Replace\n",
    "b[:,1,0] = [8,9]\n",
    "b"
   ]
  },
  {
   "cell_type": "markdown",
   "id": "a014ccf9",
   "metadata": {},
   "source": [
    "## Initializing Different Types of Arrays"
   ]
  },
  {
   "cell_type": "code",
   "execution_count": 96,
   "id": "dd509669",
   "metadata": {},
   "outputs": [
    {
     "data": {
      "text/plain": [
       "array([[[0., 0., 0.],\n",
       "        [0., 0., 0.],\n",
       "        [0., 0., 0.]],\n",
       "\n",
       "       [[0., 0., 0.],\n",
       "        [0., 0., 0.],\n",
       "        [0., 0., 0.]]])"
      ]
     },
     "execution_count": 96,
     "metadata": {},
     "output_type": "execute_result"
    }
   ],
   "source": [
    "# All 0's matrix\n",
    "np.zeros((3,3)) #--> Put in no of rows and columns\n",
    "\n",
    "# Can be 3 dimensional as well\n",
    "np.zeros((2,3,3))"
   ]
  },
  {
   "cell_type": "code",
   "execution_count": 305,
   "id": "c899ab30",
   "metadata": {},
   "outputs": [
    {
     "name": "stdout",
     "output_type": "stream",
     "text": [
      "[[1. 1.]\n",
      " [1. 1.]\n",
      " [1. 1.]\n",
      " [1. 1.]]\n"
     ]
    },
    {
     "data": {
      "text/plain": [
       "array([[[1, 1, 1],\n",
       "        [1, 1, 1]],\n",
       "\n",
       "       [[1, 1, 1],\n",
       "        [1, 1, 1]],\n",
       "\n",
       "       [[1, 1, 1],\n",
       "        [1, 1, 1]],\n",
       "\n",
       "       [[1, 1, 1],\n",
       "        [1, 1, 1]]], dtype=int16)"
      ]
     },
     "execution_count": 305,
     "metadata": {},
     "output_type": "execute_result"
    }
   ],
   "source": [
    "# All 1's matrix\n",
    "g =np.ones((4,2))\n",
    "print(g)\n",
    "#in 3 dimension\n",
    "f = np.ones((4,2,3) ,dtype = 'int16')\n",
    "f"
   ]
  },
  {
   "cell_type": "code",
   "execution_count": 112,
   "id": "6e4670b7",
   "metadata": {},
   "outputs": [
    {
     "data": {
      "text/plain": [
       "array([[88, 88, 88, 88],\n",
       "       [88, 88, 88, 88],\n",
       "       [88, 88, 88, 88],\n",
       "       [88, 88, 88, 88]])"
      ]
     },
     "execution_count": 112,
     "metadata": {},
     "output_type": "execute_result"
    }
   ],
   "source": [
    "#To initialize matrix with any other number we use np.full which takes two parameters\n",
    "np.full((4,4), 88)"
   ]
  },
  {
   "cell_type": "code",
   "execution_count": 114,
   "id": "6b60dc51",
   "metadata": {},
   "outputs": [
    {
     "data": {
      "text/plain": [
       "array([[[5, 5, 5],\n",
       "        [5, 5, 5]],\n",
       "\n",
       "       [[5, 5, 5],\n",
       "        [5, 5, 5]],\n",
       "\n",
       "       [[5, 5, 5],\n",
       "        [5, 5, 5]],\n",
       "\n",
       "       [[5, 5, 5],\n",
       "        [5, 5, 5]]], dtype=int16)"
      ]
     },
     "execution_count": 114,
     "metadata": {},
     "output_type": "execute_result"
    }
   ],
   "source": [
    "# To initialize an array which is similar to \n",
    "# a previously generated array with\n",
    "# any other number (full_like)\n",
    "np.full_like(f,5)"
   ]
  },
  {
   "cell_type": "code",
   "execution_count": 124,
   "id": "c4066361",
   "metadata": {},
   "outputs": [
    {
     "data": {
      "text/plain": [
       "array([[0.42463553, 0.18833709],\n",
       "       [0.0524142 , 0.60370255],\n",
       "       [0.25565472, 0.86422387],\n",
       "       [0.6816586 , 0.97549144]])"
      ]
     },
     "execution_count": 124,
     "metadata": {},
     "output_type": "execute_result"
    }
   ],
   "source": [
    "#Initialize array of random numbers\n",
    "np.random.rand(4,2)"
   ]
  },
  {
   "cell_type": "code",
   "execution_count": 170,
   "id": "549269ae",
   "metadata": {},
   "outputs": [
    {
     "name": "stdout",
     "output_type": "stream",
     "text": [
      "[[[0.44174248 0.76875172 0.02735815]\n",
      "  [0.60536068 0.79288742 0.39797974]]\n",
      "\n",
      " [[0.61036194 0.1237485  0.58724306]\n",
      "  [0.62228396 0.84425997 0.95725178]]\n",
      "\n",
      " [[0.15859751 0.94941046 0.82380073]\n",
      "  [0.7561711  0.7977626  0.09549792]]\n",
      "\n",
      " [[0.06684179 0.32119364 0.9092828 ]\n",
      "  [0.59592517 0.50761875 0.72162637]]]\n"
     ]
    }
   ],
   "source": [
    "# If you want to pass on shape of previously generated array\n",
    "#and generate new array with random numbers you\n",
    "#can use random_sample\n",
    "g = np.random.random_sample(f.shape)\n",
    "print(g)"
   ]
  },
  {
   "cell_type": "code",
   "execution_count": 172,
   "id": "8dedd77d",
   "metadata": {},
   "outputs": [
    {
     "name": "stdout",
     "output_type": "stream",
     "text": [
      "[[93  3 18]\n",
      " [58  5 31]\n",
      " [76 95 30]]\n"
     ]
    }
   ],
   "source": [
    "# To generate random no array with integer values\n",
    "h = np.random.randint(1, 99,size=(3,3))\n",
    "print(h)"
   ]
  },
  {
   "cell_type": "code",
   "execution_count": 175,
   "id": "9fafed23",
   "metadata": {},
   "outputs": [
    {
     "data": {
      "text/plain": [
       "array([[1., 0., 0., 0.],\n",
       "       [0., 1., 0., 0.],\n",
       "       [0., 0., 1., 0.],\n",
       "       [0., 0., 0., 1.]])"
      ]
     },
     "execution_count": 175,
     "metadata": {},
     "output_type": "execute_result"
    }
   ],
   "source": [
    "#To generate identity matrix \n",
    "#(only takes one argument since identity matrix is always a square matrix)\n",
    "np.identity(4)"
   ]
  },
  {
   "cell_type": "code",
   "execution_count": 181,
   "id": "dbd8bf75",
   "metadata": {},
   "outputs": [
    {
     "data": {
      "text/plain": [
       "array([1, 1, 1, 1, 2, 2, 2, 2, 4, 4, 4, 4])"
      ]
     },
     "execution_count": 181,
     "metadata": {},
     "output_type": "execute_result"
    }
   ],
   "source": [
    "#Repeat an array\n",
    "arr = np.array([1,2,4])\n",
    "r1 = np.repeat(arr,4,axis = 0)\n",
    "r1"
   ]
  },
  {
   "cell_type": "code",
   "execution_count": 193,
   "id": "7627e5e7",
   "metadata": {},
   "outputs": [
    {
     "name": "stdout",
     "output_type": "stream",
     "text": [
      "initial input is \n",
      " [[1. 1. 1. 1. 1.]\n",
      " [1. 1. 1. 1. 1.]\n",
      " [1. 1. 1. 1. 1.]\n",
      " [1. 1. 1. 1. 1.]\n",
      " [1. 1. 1. 1. 1.]] \n",
      "\n",
      "The middle array is \n",
      " [[0. 0. 0.]\n",
      " [0. 9. 0.]\n",
      " [0. 0. 0.]] \n",
      "\n",
      "Final result is \n",
      " [[1. 1. 1. 1. 1.]\n",
      " [1. 0. 0. 0. 1.]\n",
      " [1. 0. 9. 0. 1.]\n",
      " [1. 0. 0. 0. 1.]\n",
      " [1. 1. 1. 1. 1.]]\n"
     ]
    }
   ],
   "source": [
    "output = np.ones((5,5))\n",
    "print('initial input is \\n',output,'\\n')\n",
    "\n",
    "z = np.zeros((3,3))\n",
    "\n",
    "z[1,1] = 9\n",
    "print('The middle array is \\n',z,'\\n')\n",
    "\n",
    "output[1:4,1:4] = z\n",
    "print('Final result is \\n',output)"
   ]
  },
  {
   "cell_type": "markdown",
   "id": "a12c43a3",
   "metadata": {},
   "source": [
    "### Be careful when copying arrays !!"
   ]
  },
  {
   "cell_type": "code",
   "execution_count": 200,
   "id": "587f1549",
   "metadata": {},
   "outputs": [
    {
     "name": "stdout",
     "output_type": "stream",
     "text": [
      "[100   2   3]\n",
      "[100   2   3]\n"
     ]
    }
   ],
   "source": [
    "a = np.array([1,2,3])\n",
    "b = a\n",
    "b[0]= 100\n",
    "print(b)\n",
    "print(a)\n",
    "\n",
    "#Here we only made changes in b but elements of array \"a\" also changed\n",
    "# So we need to avoid simply copying an array\n"
   ]
  },
  {
   "cell_type": "code",
   "execution_count": 204,
   "id": "1a33a317",
   "metadata": {},
   "outputs": [
    {
     "name": "stdout",
     "output_type": "stream",
     "text": [
      "[1 2 3]\n",
      "[100   2   3]\n",
      "[1 2 3]\n"
     ]
    }
   ],
   "source": [
    "# You can use the following method to create a new array which \n",
    "# wont point the array in the same memory location as the initial one\n",
    "\n",
    "a = np.array([1,2,3])\n",
    "b = np.array(a)\n",
    "#Or alternatively you can use \"b = a.copy()\"\n",
    "print(b)\n",
    "\n",
    "b[0] = 100\n",
    "print(b)\n",
    "print(a)"
   ]
  },
  {
   "cell_type": "markdown",
   "id": "e3797921",
   "metadata": {},
   "source": [
    "## ***Mathematics***"
   ]
  },
  {
   "cell_type": "code",
   "execution_count": 7,
   "id": "8657ccd8",
   "metadata": {},
   "outputs": [
    {
     "data": {
      "text/plain": [
       "array([[1, 3, 5, 7],\n",
       "       [1, 0, 1, 0]])"
      ]
     },
     "execution_count": 7,
     "metadata": {},
     "output_type": "execute_result"
    }
   ],
   "source": [
    "a = np.array([[1,3,5,7],[1,0,1,0]])\n",
    "a"
   ]
  },
  {
   "cell_type": "code",
   "execution_count": 206,
   "id": "2db77b0c",
   "metadata": {},
   "outputs": [
    {
     "data": {
      "text/plain": [
       "array([3, 5, 7, 9])"
      ]
     },
     "execution_count": 206,
     "metadata": {},
     "output_type": "execute_result"
    }
   ],
   "source": [
    "a+2"
   ]
  },
  {
   "cell_type": "code",
   "execution_count": 208,
   "id": "215a9729",
   "metadata": {},
   "outputs": [
    {
     "data": {
      "text/plain": [
       "array([ 4, 12, 20, 28])"
      ]
     },
     "execution_count": 208,
     "metadata": {},
     "output_type": "execute_result"
    }
   ],
   "source": [
    "a*4"
   ]
  },
  {
   "cell_type": "code",
   "execution_count": 210,
   "id": "3bedbec4",
   "metadata": {},
   "outputs": [
    {
     "data": {
      "text/plain": [
       "array([0, 0, 1, 1], dtype=int32)"
      ]
     },
     "execution_count": 210,
     "metadata": {},
     "output_type": "execute_result"
    }
   ],
   "source": [
    "a//5"
   ]
  },
  {
   "cell_type": "code",
   "execution_count": 212,
   "id": "e69b77bb",
   "metadata": {},
   "outputs": [
    {
     "data": {
      "text/plain": [
       "array([0.2, 0.6, 1. , 1.4])"
      ]
     },
     "execution_count": 212,
     "metadata": {},
     "output_type": "execute_result"
    }
   ],
   "source": [
    "a/5"
   ]
  },
  {
   "cell_type": "code",
   "execution_count": 8,
   "id": "9545ae35",
   "metadata": {},
   "outputs": [
    {
     "data": {
      "text/plain": [
       "array([[2, 3, 6, 7],\n",
       "       [2, 3, 6, 7]])"
      ]
     },
     "execution_count": 8,
     "metadata": {},
     "output_type": "execute_result"
    }
   ],
   "source": [
    "b = np.array([[1,0,1,0],[1,3,5,7]])\n",
    "a+b"
   ]
  },
  {
   "cell_type": "code",
   "execution_count": 9,
   "id": "6a3d27fd",
   "metadata": {},
   "outputs": [
    {
     "data": {
      "text/plain": [
       "array([[1, 0, 5, 0],\n",
       "       [1, 0, 5, 0]])"
      ]
     },
     "execution_count": 9,
     "metadata": {},
     "output_type": "execute_result"
    }
   ],
   "source": [
    "a*b"
   ]
  },
  {
   "cell_type": "code",
   "execution_count": 216,
   "id": "703f1c91",
   "metadata": {},
   "outputs": [
    {
     "data": {
      "text/plain": [
       "array([ 1,  9, 25, 49])"
      ]
     },
     "execution_count": 216,
     "metadata": {},
     "output_type": "execute_result"
    }
   ],
   "source": [
    "a**2"
   ]
  },
  {
   "cell_type": "code",
   "execution_count": 240,
   "id": "5d756cb8",
   "metadata": {},
   "outputs": [
    {
     "data": {
      "text/plain": [
       "array([[0.84147098, 0.84147098],\n",
       "       [0.84147098, 0.84147098]])"
      ]
     },
     "execution_count": 240,
     "metadata": {},
     "output_type": "execute_result"
    }
   ],
   "source": [
    "# Take the sin of all values of array\n",
    "np.sin(a)\n",
    "\n",
    "# Other Trignometric functions can also be applied in similar fashion on array"
   ]
  },
  {
   "cell_type": "markdown",
   "id": "6912a6e4",
   "metadata": {},
   "source": [
    "##### Similarly many other Maths routine methods are inbuilt present in numpy\n",
    "\n",
    "You can refer to \"https://www.youtube.com/redirect?event=video_description&redir_token=QUFFLUhqazV1TXI2TmZrUzhnRlcwdWpjTlFXeTFLcllDZ3xBQ3Jtc0trTkY5RDJVa3NkMjVBX2hTajVjT2cyelBfblBHUkxWN2cxSVRMY0ZrNWZmWXphQWZQMmNlRVpTVnFFcHJROW1UVmR3ZF85S2JrMnFzd2VWbEM3aUt3ZmxFVHVPcXRsclZSWHpZVUtaTnlETEFNV1cwSQ&q=https%3A%2F%2Fdocs.scipy.org%2Fdoc%2Fnumpy%2Freference%2Froutines.math.html&v=GB9ByFAIAH4\""
   ]
  },
  {
   "cell_type": "markdown",
   "id": "a06d4610",
   "metadata": {},
   "source": [
    "### Linear Algebra"
   ]
  },
  {
   "cell_type": "code",
   "execution_count": 276,
   "id": "ebfecb49",
   "metadata": {},
   "outputs": [
    {
     "name": "stdout",
     "output_type": "stream",
     "text": [
      "[[1 1]\n",
      " [1 1]]\n",
      "[[2 2]\n",
      " [2 2]]\n"
     ]
    },
    {
     "data": {
      "text/plain": [
       "array([[4, 4],\n",
       "       [4, 4]])"
      ]
     },
     "execution_count": 276,
     "metadata": {},
     "output_type": "execute_result"
    }
   ],
   "source": [
    "#Matrix multiplication using matmul() function\n",
    "\n",
    "a = np.ones((2,2),dtype = 'int32')\n",
    "print(a)\n",
    "\n",
    "b = np.full((2,2),2)\n",
    "print(b)\n",
    "\n",
    "np.matmul(a,b)"
   ]
  },
  {
   "cell_type": "code",
   "execution_count": 239,
   "id": "d3c57440",
   "metadata": {},
   "outputs": [
    {
     "data": {
      "text/plain": [
       "0.0"
      ]
     },
     "execution_count": 239,
     "metadata": {},
     "output_type": "execute_result"
    }
   ],
   "source": [
    "# To calculate determinant of matrix we use \n",
    "# linalg methods in numpy\n",
    "c = np.identity(3)\n",
    "np.linalg.det(c)\n",
    "np.linalg.det(a)\n"
   ]
  },
  {
   "cell_type": "markdown",
   "id": "c7ffef59",
   "metadata": {},
   "source": [
    "#### Similarly many other linear algebra functions are inbuilt present in numpy :\n",
    "1. Determinants\n",
    "2. Trace\n",
    "3. Singular Vector Decomposition\n",
    "4. Eigenvalues\n",
    "5. Matrix Norm\n",
    "6. Inverse\n",
    "7. Etc....\n",
    "\n",
    " Refer to (https://www.youtube.com/redirect?event=video_description&redir_token=QUFFLUhqbkwyMU93NnJNNURIcjdPU1pXS2dtaGlHQmtiUXxBQ3Jtc0tuUS1XMGNURThvcTdMQ2dWNkQ2ZUZqLXJvYnBxRDE4S2RzZTlmcDhoMHpmSjFub3pYX1R1RlRobTJOemZiZGE4OGJLdmZTYl9CTzdPSFhvdU9fOF95VE5QQnBLNG9FLTNRMzNwblNnZkx6NFd4OHpGRQ&q=https%3A%2F%2Fdocs.scipy.org%2Fdoc%2Fnumpy%2Freference%2Froutines.linalg.html&v=GB9ByFAIAH4)"
   ]
  },
  {
   "cell_type": "markdown",
   "id": "e1746080",
   "metadata": {},
   "source": [
    "### Statistics"
   ]
  },
  {
   "cell_type": "code",
   "execution_count": 270,
   "id": "ffff9872",
   "metadata": {},
   "outputs": [
    {
     "data": {
      "text/plain": [
       "array([[ 1, 22,  3],\n",
       "       [43,  5,  6]])"
      ]
     },
     "execution_count": 270,
     "metadata": {},
     "output_type": "execute_result"
    }
   ],
   "source": [
    "stats = np.array([[1,22,3],[43,5,6]])\n",
    "stats"
   ]
  },
  {
   "cell_type": "code",
   "execution_count": 272,
   "id": "412dba64",
   "metadata": {},
   "outputs": [
    {
     "name": "stdout",
     "output_type": "stream",
     "text": [
      "1\n"
     ]
    },
    {
     "data": {
      "text/plain": [
       "array([1, 5])"
      ]
     },
     "execution_count": 272,
     "metadata": {},
     "output_type": "execute_result"
    }
   ],
   "source": [
    "y = np.min(stats)\n",
    "print(y) # minimum in complete array/matrix\n",
    "np.min(stats,axis = 1) #axis = 1 means min in all rows"
   ]
  },
  {
   "cell_type": "code",
   "execution_count": 273,
   "id": "7e771dfc",
   "metadata": {},
   "outputs": [
    {
     "name": "stdout",
     "output_type": "stream",
     "text": [
      "43\n"
     ]
    },
    {
     "data": {
      "text/plain": [
       "array([43, 22,  6])"
      ]
     },
     "execution_count": 273,
     "metadata": {},
     "output_type": "execute_result"
    }
   ],
   "source": [
    "y = np.max(stats)\n",
    "print(y) # Maximum in complete array/matrix\n",
    "np.max(stats,axis =0) #axis = 0 means max in all columns"
   ]
  },
  {
   "cell_type": "code",
   "execution_count": 275,
   "id": "b7d5876a",
   "metadata": {},
   "outputs": [
    {
     "name": "stdout",
     "output_type": "stream",
     "text": [
      "80\n",
      "[26 54]\n",
      "[44 27  9]\n"
     ]
    }
   ],
   "source": [
    "w = np.sum(stats) # Sum of all the elements in array\n",
    "x = np.sum(stats,axis = 1)#Axis = 1 means sum of elements row wise\n",
    "y = np.sum(stats,axis = 0) #Axis = 0 means sum of elements column wise\n",
    "print(w)\n",
    "print(x)\n",
    "print(y)"
   ]
  },
  {
   "cell_type": "markdown",
   "id": "a5566432",
   "metadata": {},
   "source": [
    "### Reorganizing Arrays"
   ]
  },
  {
   "cell_type": "code",
   "execution_count": 14,
   "id": "ad89281e",
   "metadata": {},
   "outputs": [
    {
     "name": "stdout",
     "output_type": "stream",
     "text": [
      "(2, 4)\n"
     ]
    },
    {
     "data": {
      "text/plain": [
       "array([[[1, 2],\n",
       "        [3, 4]],\n",
       "\n",
       "       [[5, 6],\n",
       "        [7, 8]]])"
      ]
     },
     "execution_count": 14,
     "metadata": {},
     "output_type": "execute_result"
    }
   ],
   "source": [
    "before = np.array([[1,2,3,4],[5,6,7,8]])\n",
    "print(before.shape)\n",
    "\n",
    "after = before.reshape((2,2,2))\n",
    "# after = np.reshape(before,(2,2,2))\n",
    "after\n",
    "\n",
    "# You need to ensure while reshaping the array, \n",
    "# the size of the array remains \n",
    "# consistent before and after reshaping of the array\n",
    "# For example previously the size was 2*4 = 8 \n",
    "# and now the size is 2*2*2 = 8 which is consistent"
   ]
  },
  {
   "cell_type": "code",
   "execution_count": 294,
   "id": "37e9a968",
   "metadata": {},
   "outputs": [
    {
     "data": {
      "text/plain": [
       "array([[1, 2, 4, 5],\n",
       "       [5, 6, 7, 8],\n",
       "       [5, 6, 7, 8],\n",
       "       [1, 2, 4, 5]])"
      ]
     },
     "execution_count": 294,
     "metadata": {},
     "output_type": "execute_result"
    }
   ],
   "source": [
    "# Vertical stacking of vectors\n",
    "v1 = np.array([1,2,4,5])\n",
    "v2 = np.array([5,6,7,8])\n",
    "\n",
    "np.vstack([v1,v2,v2,v1])"
   ]
  },
  {
   "cell_type": "code",
   "execution_count": 307,
   "id": "48194abc",
   "metadata": {},
   "outputs": [
    {
     "data": {
      "text/plain": [
       "array([1, 2, 4, 5, 5, 6, 7, 8, 1, 2, 4, 5, 1, 1, 1, 1])"
      ]
     },
     "execution_count": 307,
     "metadata": {},
     "output_type": "execute_result"
    }
   ],
   "source": [
    "# Horizontal stacking vectors\n",
    "np.hstack([v1,v2,v1,np.full_like(v1,1)])"
   ]
  },
  {
   "cell_type": "markdown",
   "id": "071f0c4f",
   "metadata": {},
   "source": [
    "### Miscellaneous"
   ]
  },
  {
   "cell_type": "markdown",
   "id": "0af789e0",
   "metadata": {},
   "source": [
    "##### Load Data from file"
   ]
  },
  {
   "cell_type": "code",
   "execution_count": 310,
   "id": "7b7dc341",
   "metadata": {},
   "outputs": [
    {
     "data": {
      "text/plain": [
       "array([[    9,    99,   999,  9999, 99999],\n",
       "       [    1,     2,     3,     4,     5],\n",
       "       [   10,   100,    11,   101,  1000]])"
      ]
     },
     "execution_count": 310,
     "metadata": {},
     "output_type": "execute_result"
    }
   ],
   "source": [
    "filedata = np.genfromtxt('filedata.txt',delimiter = \",\")\n",
    "filedata = filedata.astype('int32')\n",
    "filedata"
   ]
  },
  {
   "cell_type": "markdown",
   "id": "9013a2a3",
   "metadata": {},
   "source": [
    "#### Boolean Masking and Advanced indexing"
   ]
  },
  {
   "cell_type": "code",
   "execution_count": 325,
   "id": "713592ef",
   "metadata": {},
   "outputs": [
    {
     "name": "stdout",
     "output_type": "stream",
     "text": [
      "[[False  True  True  True  True]\n",
      " [False False False False False]\n",
      " [False  True False  True  True]]\n"
     ]
    },
    {
     "data": {
      "text/plain": [
       "array([ 9,  1,  2,  3,  4,  5, 10, 11])"
      ]
     },
     "execution_count": 325,
     "metadata": {},
     "output_type": "execute_result"
    }
   ],
   "source": [
    "\n",
    "print(filedata >= 90)\n",
    "# Will check for each item in array and return True or False\n",
    "# based on given condition against each element\n",
    "\n",
    "# We can use the above conditions as index as well\n",
    "# and wherever the condition is true, it will return the \n",
    "# corresponding values from the original array where condition\n",
    "# hold True\n",
    "# For Example -->\n",
    "\n",
    "filedata[filedata<=90]#returns all values from original array"
   ]
  },
  {
   "cell_type": "code",
   "execution_count": 328,
   "id": "955f635c",
   "metadata": {},
   "outputs": [
    {
     "data": {
      "text/plain": [
       "array([ True, False,  True])"
      ]
     },
     "execution_count": 328,
     "metadata": {},
     "output_type": "execute_result"
    }
   ],
   "source": [
    "# You can also check for a particular columns or row\n",
    "np.any(filedata>50, axis = 1) # Axis = 0 for cols and axis = 1 for rows"
   ]
  },
  {
   "cell_type": "code",
   "execution_count": 329,
   "id": "dc3fb8dd",
   "metadata": {},
   "outputs": [
    {
     "data": {
      "text/plain": [
       "array([[False,  True, False, False, False],\n",
       "       [False, False, False, False, False],\n",
       "       [False,  True, False,  True, False]])"
      ]
     },
     "execution_count": 329,
     "metadata": {},
     "output_type": "execute_result"
    }
   ],
   "source": [
    "# Can apply more than one condition using &(and) and |(or) \n",
    "((filedata > 50) & (filedata <500))"
   ]
  },
  {
   "cell_type": "markdown",
   "id": "2fbe809d",
   "metadata": {},
   "source": [
    "#### You can index with a list in Numpy"
   ]
  },
  {
   "cell_type": "code",
   "execution_count": 338,
   "id": "67bc4a54",
   "metadata": {},
   "outputs": [
    {
     "data": {
      "text/plain": [
       "array([[ 2,  3,  9],\n",
       "       [12, 13, 19],\n",
       "       [22, 23, 29]])"
      ]
     },
     "execution_count": 338,
     "metadata": {},
     "output_type": "execute_result"
    }
   ],
   "source": [
    "a = np.array([[1,2,3,4,5,6,7,8,9],[11,12,13,14,15,16,17,18,19],[21,22,23,24,25,26,27,28,29]])\n",
    "a[:,[1,2,8]] # the requisite cols are passed as a list"
   ]
  },
  {
   "cell_type": "code",
   "execution_count": 341,
   "id": "d88e1303",
   "metadata": {},
   "outputs": [
    {
     "data": {
      "text/plain": [
       "array([[ 5,  6,  7,  8,  9],\n",
       "       [25, 26, 27, 28, 29]])"
      ]
     },
     "execution_count": 341,
     "metadata": {},
     "output_type": "execute_result"
    }
   ],
   "source": [
    "a[[0,1,2],[1,2,3]] #Advanced indexing\n",
    "# first pass on the list of rows required and then pass\n",
    "# on the list of corresponding column required\n",
    "\n",
    "a[[0,2],4:]"
   ]
  }
 ],
 "metadata": {
  "kernelspec": {
   "display_name": "Python 3 (ipykernel)",
   "language": "python",
   "name": "python3"
  },
  "language_info": {
   "codemirror_mode": {
    "name": "ipython",
    "version": 3
   },
   "file_extension": ".py",
   "mimetype": "text/x-python",
   "name": "python",
   "nbconvert_exporter": "python",
   "pygments_lexer": "ipython3",
   "version": "3.9.13"
  }
 },
 "nbformat": 4,
 "nbformat_minor": 5
}
